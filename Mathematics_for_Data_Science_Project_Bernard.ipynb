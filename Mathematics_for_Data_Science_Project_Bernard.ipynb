{
  "nbformat": 4,
  "nbformat_minor": 0,
  "metadata": {
    "colab": {
      "name": "Mathematics for Data Science Project-Bernard",
      "provenance": [],
      "collapsed_sections": [],
      "toc_visible": true,
      "include_colab_link": true
    },
    "kernelspec": {
      "name": "python3",
      "display_name": "Python 3"
    },
    "language_info": {
      "name": "python"
    }
  },
  "cells": [
    {
      "cell_type": "markdown",
      "metadata": {
        "id": "view-in-github",
        "colab_type": "text"
      },
      "source": [
        "<a href=\"https://colab.research.google.com/github/CoolerKula/Mathematics-for-Data-Science-Project/blob/main/Mathematics_for_Data_Science_Project_Bernard.ipynb\" target=\"_parent\"><img src=\"https://colab.research.google.com/assets/colab-badge.svg\" alt=\"Open In Colab\"/></a>"
      ]
    },
    {
      "cell_type": "markdown",
      "metadata": {
        "id": "WyK_h0mfhtw5"
      },
      "source": [
        "# Mathematics for Data Science Project"
      ]
    },
    {
      "cell_type": "code",
      "metadata": {
        "id": "3Le7kbBOgjtu"
      },
      "source": [
        "# importing libraries\n",
        "import numpy as np\n",
        "import pandas as pd\n",
        "from scipy.spatial import distance"
      ],
      "execution_count": 4,
      "outputs": []
    },
    {
      "cell_type": "code",
      "metadata": {
        "id": "rD4WxowmhAFC",
        "colab": {
          "base_uri": "https://localhost:8080/",
          "height": 206
        },
        "outputId": "47549844-44c8-427a-e26a-b1042d902bba"
      },
      "source": [
        "# defining the dataset\n",
        "columns = ['y', 'x1', 'x2', 'x3', 'x4', 'x5']\n",
        "\n",
        "df_train = pd.DataFrame([\n",
        "[1.0, 38.5, 6.9, 18.9, 3.0, 5.0], [1.0, 38.0, 8.5, 19.2, 9.0, 17.0], [1.0, 34.7, 10.3, 19.8, 1.0, 9.0], [1.0, 45.9, 11.1, 17.5, 11.0, 23.0], [1.0, 42.4, 10.0, 19.9, 6.0, 14.0], [1.0, 46.0, 10.2, 20.5, 3.0, 12.0], [2.0, 77.7, 13.2, 39.3, 3.0, 17.0], [2.0, 69.8, 11.1, 31.4, 12.0, 23.0], [2.0, 78.2, 19.4, 33.2, 4.0, 9.0], [2.0, 55.5, 7.8, 29.6, 1.0, 25.0], [2.0, 74.3, 16.0, 34.2, 14.0, 17.0], [2.0, 78.3, 12.3, 42.6, 23.0, 23.0], [2.0, 74.0, 18.1, 49.0, 8.0, 9.0], [2.0, 71.4, 20.1, 60.4, 2.0, 10.0], [3.0, 85.0, 17.8, 56.1, 14.0, 14.0], [3.0, 79.8, 9.8, 44.8, 9.0, 10.0], [3.0, 72.0, 10.2, 37.3, 7.0, 9.0], [3.0, 95.3, 11.0, 51.5, 15.0, 23.0], [3.0, 69.3, 9.5, 42.3, 4.0, 9.0], [3.0, 89.8, 11.2, 58.2, 24.0, 25.0]\n",
        "], columns=columns)\n",
        "\n",
        "# previewing the dataset\n",
        "df_train.head()"
      ],
      "execution_count": 5,
      "outputs": [
        {
          "output_type": "execute_result",
          "data": {
            "text/html": [
              "\n",
              "  <div id=\"df-d303d838-73b6-46f5-a899-d68fb4fe1944\">\n",
              "    <div class=\"colab-df-container\">\n",
              "      <div>\n",
              "<style scoped>\n",
              "    .dataframe tbody tr th:only-of-type {\n",
              "        vertical-align: middle;\n",
              "    }\n",
              "\n",
              "    .dataframe tbody tr th {\n",
              "        vertical-align: top;\n",
              "    }\n",
              "\n",
              "    .dataframe thead th {\n",
              "        text-align: right;\n",
              "    }\n",
              "</style>\n",
              "<table border=\"1\" class=\"dataframe\">\n",
              "  <thead>\n",
              "    <tr style=\"text-align: right;\">\n",
              "      <th></th>\n",
              "      <th>y</th>\n",
              "      <th>x1</th>\n",
              "      <th>x2</th>\n",
              "      <th>x3</th>\n",
              "      <th>x4</th>\n",
              "      <th>x5</th>\n",
              "    </tr>\n",
              "  </thead>\n",
              "  <tbody>\n",
              "    <tr>\n",
              "      <th>0</th>\n",
              "      <td>1.0</td>\n",
              "      <td>38.5</td>\n",
              "      <td>6.9</td>\n",
              "      <td>18.9</td>\n",
              "      <td>3.0</td>\n",
              "      <td>5.0</td>\n",
              "    </tr>\n",
              "    <tr>\n",
              "      <th>1</th>\n",
              "      <td>1.0</td>\n",
              "      <td>38.0</td>\n",
              "      <td>8.5</td>\n",
              "      <td>19.2</td>\n",
              "      <td>9.0</td>\n",
              "      <td>17.0</td>\n",
              "    </tr>\n",
              "    <tr>\n",
              "      <th>2</th>\n",
              "      <td>1.0</td>\n",
              "      <td>34.7</td>\n",
              "      <td>10.3</td>\n",
              "      <td>19.8</td>\n",
              "      <td>1.0</td>\n",
              "      <td>9.0</td>\n",
              "    </tr>\n",
              "    <tr>\n",
              "      <th>3</th>\n",
              "      <td>1.0</td>\n",
              "      <td>45.9</td>\n",
              "      <td>11.1</td>\n",
              "      <td>17.5</td>\n",
              "      <td>11.0</td>\n",
              "      <td>23.0</td>\n",
              "    </tr>\n",
              "    <tr>\n",
              "      <th>4</th>\n",
              "      <td>1.0</td>\n",
              "      <td>42.4</td>\n",
              "      <td>10.0</td>\n",
              "      <td>19.9</td>\n",
              "      <td>6.0</td>\n",
              "      <td>14.0</td>\n",
              "    </tr>\n",
              "  </tbody>\n",
              "</table>\n",
              "</div>\n",
              "      <button class=\"colab-df-convert\" onclick=\"convertToInteractive('df-d303d838-73b6-46f5-a899-d68fb4fe1944')\"\n",
              "              title=\"Convert this dataframe to an interactive table.\"\n",
              "              style=\"display:none;\">\n",
              "        \n",
              "  <svg xmlns=\"http://www.w3.org/2000/svg\" height=\"24px\"viewBox=\"0 0 24 24\"\n",
              "       width=\"24px\">\n",
              "    <path d=\"M0 0h24v24H0V0z\" fill=\"none\"/>\n",
              "    <path d=\"M18.56 5.44l.94 2.06.94-2.06 2.06-.94-2.06-.94-.94-2.06-.94 2.06-2.06.94zm-11 1L8.5 8.5l.94-2.06 2.06-.94-2.06-.94L8.5 2.5l-.94 2.06-2.06.94zm10 10l.94 2.06.94-2.06 2.06-.94-2.06-.94-.94-2.06-.94 2.06-2.06.94z\"/><path d=\"M17.41 7.96l-1.37-1.37c-.4-.4-.92-.59-1.43-.59-.52 0-1.04.2-1.43.59L10.3 9.45l-7.72 7.72c-.78.78-.78 2.05 0 2.83L4 21.41c.39.39.9.59 1.41.59.51 0 1.02-.2 1.41-.59l7.78-7.78 2.81-2.81c.8-.78.8-2.07 0-2.86zM5.41 20L4 18.59l7.72-7.72 1.47 1.35L5.41 20z\"/>\n",
              "  </svg>\n",
              "      </button>\n",
              "      \n",
              "  <style>\n",
              "    .colab-df-container {\n",
              "      display:flex;\n",
              "      flex-wrap:wrap;\n",
              "      gap: 12px;\n",
              "    }\n",
              "\n",
              "    .colab-df-convert {\n",
              "      background-color: #E8F0FE;\n",
              "      border: none;\n",
              "      border-radius: 50%;\n",
              "      cursor: pointer;\n",
              "      display: none;\n",
              "      fill: #1967D2;\n",
              "      height: 32px;\n",
              "      padding: 0 0 0 0;\n",
              "      width: 32px;\n",
              "    }\n",
              "\n",
              "    .colab-df-convert:hover {\n",
              "      background-color: #E2EBFA;\n",
              "      box-shadow: 0px 1px 2px rgba(60, 64, 67, 0.3), 0px 1px 3px 1px rgba(60, 64, 67, 0.15);\n",
              "      fill: #174EA6;\n",
              "    }\n",
              "\n",
              "    [theme=dark] .colab-df-convert {\n",
              "      background-color: #3B4455;\n",
              "      fill: #D2E3FC;\n",
              "    }\n",
              "\n",
              "    [theme=dark] .colab-df-convert:hover {\n",
              "      background-color: #434B5C;\n",
              "      box-shadow: 0px 1px 3px 1px rgba(0, 0, 0, 0.15);\n",
              "      filter: drop-shadow(0px 1px 2px rgba(0, 0, 0, 0.3));\n",
              "      fill: #FFFFFF;\n",
              "    }\n",
              "  </style>\n",
              "\n",
              "      <script>\n",
              "        const buttonEl =\n",
              "          document.querySelector('#df-d303d838-73b6-46f5-a899-d68fb4fe1944 button.colab-df-convert');\n",
              "        buttonEl.style.display =\n",
              "          google.colab.kernel.accessAllowed ? 'block' : 'none';\n",
              "\n",
              "        async function convertToInteractive(key) {\n",
              "          const element = document.querySelector('#df-d303d838-73b6-46f5-a899-d68fb4fe1944');\n",
              "          const dataTable =\n",
              "            await google.colab.kernel.invokeFunction('convertToInteractive',\n",
              "                                                     [key], {});\n",
              "          if (!dataTable) return;\n",
              "\n",
              "          const docLinkHtml = 'Like what you see? Visit the ' +\n",
              "            '<a target=\"_blank\" href=https://colab.research.google.com/notebooks/data_table.ipynb>data table notebook</a>'\n",
              "            + ' to learn more about interactive tables.';\n",
              "          element.innerHTML = '';\n",
              "          dataTable['output_type'] = 'display_data';\n",
              "          await google.colab.output.renderOutput(dataTable, element);\n",
              "          const docLink = document.createElement('div');\n",
              "          docLink.innerHTML = docLinkHtml;\n",
              "          element.appendChild(docLink);\n",
              "        }\n",
              "      </script>\n",
              "    </div>\n",
              "  </div>\n",
              "  "
            ],
            "text/plain": [
              "     y    x1    x2    x3    x4    x5\n",
              "0  1.0  38.5   6.9  18.9   3.0   5.0\n",
              "1  1.0  38.0   8.5  19.2   9.0  17.0\n",
              "2  1.0  34.7  10.3  19.8   1.0   9.0\n",
              "3  1.0  45.9  11.1  17.5  11.0  23.0\n",
              "4  1.0  42.4  10.0  19.9   6.0  14.0"
            ]
          },
          "metadata": {},
          "execution_count": 5
        }
      ]
    },
    {
      "cell_type": "code",
      "metadata": {
        "id": "U-fhZPCzhC--"
      },
      "source": [
        "# prediction function\n",
        "def nearest_neighbor_predict(train_features, train_target, new_features): \n",
        "\t# YOUR CODE GOES BELOW\n",
        "  #\n",
        "\tdistances = []\n",
        "\tfor i in range(train_features.shape[0]):\n",
        "\t\tvector = train_features.loc[i].values \n",
        "\t\tdistances.append(distance.euclidean(new_features, vector))\n",
        "\tbest_index = np.array(distances).argmin() \n",
        "\tprint(distances)\n",
        "\treturn train_target.loc[best_index]"
      ],
      "execution_count": 6,
      "outputs": []
    },
    {
      "cell_type": "code",
      "metadata": {
        "id": "Kvgwc7z8hEYh"
      },
      "source": [
        "# defining the features\n",
        "train_features = df_train.drop('y', axis=1)\n",
        "train_target = df_train['y']# YOUR CODE GOES HERE...Hint: this is the Y column"
      ],
      "execution_count": 7,
      "outputs": []
    },
    {
      "cell_type": "code",
      "metadata": {
        "id": "I4YKlt8QhG0Y",
        "colab": {
          "base_uri": "https://localhost:8080/"
        },
        "outputId": "7149ba94-97c2-48c5-aa37-75ce2037600a"
      },
      "source": [
        "# new record\n",
        "new_record = np.array([72, 14, 39, 8, 16])\n",
        "\n",
        "# making the prediction / calling the nearest_neighbor_predict() function\n",
        "# and passing `new_record` argument\n",
        "# ---\n",
        "# YOUR CODE GOES BELOW\n",
        "#\n",
        "prediction = nearest_neighbor_predict(train_features, train_target, new_record) \n",
        "print(prediction)"
      ],
      "execution_count": 8,
      "outputs": [
        {
          "output_type": "stream",
          "name": "stdout",
          "text": [
            "[41.50505993249498, 39.7528615322218, 43.26222370613882, 34.783185593041935, 35.56641674388917, 32.767209218973775, 7.695453203028398, 11.66233252827238, 12.893409169028958, 23.001086930838724, 8.326463835266443, 18.153236626012454, 13.031116606031887, 23.82288815404211, 22.712331452319024, 12.211470017978995, 8.205485969764375, 28.392604670934997, 10.170054080485512, 32.098598100228614]\n",
            "2.0\n"
          ]
        }
      ]
    }
  ]
}